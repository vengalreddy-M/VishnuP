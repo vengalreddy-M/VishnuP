{
 "cells": [
  {
   "cell_type": "markdown",
   "id": "18f58314",
   "metadata": {},
   "source": [
    "<h1>Tuning Hyperparameters of ML Model </h1>"
   ]
  },
  {
   "cell_type": "markdown",
   "id": "082598f9",
   "metadata": {},
   "source": [
    "<h2> 1. Make Synthetic Dataset</h2>"
   ]
  },
  {
   "cell_type": "code",
   "execution_count": 32,
   "id": "455a2a41",
   "metadata": {},
   "outputs": [],
   "source": [
    "from sklearn.datasets import make_classification\n",
    "x,y = make_classification(n_samples=200, n_features=10, n_classes=2, n_redundant=0, random_state=1)"
   ]
  },
  {
   "cell_type": "code",
   "execution_count": 33,
   "id": "bfbbc833",
   "metadata": {},
   "outputs": [
    {
     "data": {
      "text/plain": [
       "((200, 10), (200,))"
      ]
     },
     "execution_count": 33,
     "metadata": {},
     "output_type": "execute_result"
    }
   ],
   "source": [
    "x.shape,y.shape"
   ]
  },
  {
   "cell_type": "code",
   "execution_count": 87,
   "id": "77ae371c",
   "metadata": {},
   "outputs": [
    {
     "data": {
      "text/html": [
       "<div>\n",
       "<style scoped>\n",
       "    .dataframe tbody tr th:only-of-type {\n",
       "        vertical-align: middle;\n",
       "    }\n",
       "\n",
       "    .dataframe tbody tr th {\n",
       "        vertical-align: top;\n",
       "    }\n",
       "\n",
       "    .dataframe thead th {\n",
       "        text-align: right;\n",
       "    }\n",
       "</style>\n",
       "<table border=\"1\" class=\"dataframe\">\n",
       "  <thead>\n",
       "    <tr style=\"text-align: right;\">\n",
       "      <th></th>\n",
       "      <th>0</th>\n",
       "      <th>1</th>\n",
       "      <th>2</th>\n",
       "      <th>3</th>\n",
       "      <th>4</th>\n",
       "      <th>5</th>\n",
       "      <th>6</th>\n",
       "      <th>7</th>\n",
       "      <th>8</th>\n",
       "      <th>9</th>\n",
       "    </tr>\n",
       "  </thead>\n",
       "  <tbody>\n",
       "    <tr>\n",
       "      <th>0</th>\n",
       "      <td>-1.511077</td>\n",
       "      <td>0.608749</td>\n",
       "      <td>-0.153236</td>\n",
       "      <td>0.507984</td>\n",
       "      <td>-0.324032</td>\n",
       "      <td>-2.432509</td>\n",
       "      <td>1.592056</td>\n",
       "      <td>-0.864830</td>\n",
       "      <td>-0.202901</td>\n",
       "      <td>-0.871422</td>\n",
       "    </tr>\n",
       "    <tr>\n",
       "      <th>1</th>\n",
       "      <td>1.445445</td>\n",
       "      <td>0.518969</td>\n",
       "      <td>0.645153</td>\n",
       "      <td>2.038777</td>\n",
       "      <td>-0.396293</td>\n",
       "      <td>1.282142</td>\n",
       "      <td>-2.170249</td>\n",
       "      <td>-1.043400</td>\n",
       "      <td>0.048547</td>\n",
       "      <td>-2.621012</td>\n",
       "    </tr>\n",
       "    <tr>\n",
       "      <th>2</th>\n",
       "      <td>0.371670</td>\n",
       "      <td>0.513505</td>\n",
       "      <td>-1.398813</td>\n",
       "      <td>-0.459943</td>\n",
       "      <td>0.644354</td>\n",
       "      <td>0.081768</td>\n",
       "      <td>-1.757065</td>\n",
       "      <td>0.142251</td>\n",
       "      <td>-1.132835</td>\n",
       "      <td>1.853009</td>\n",
       "    </tr>\n",
       "    <tr>\n",
       "      <th>3</th>\n",
       "      <td>2.565453</td>\n",
       "      <td>0.145652</td>\n",
       "      <td>1.177052</td>\n",
       "      <td>1.322694</td>\n",
       "      <td>0.194175</td>\n",
       "      <td>-0.641108</td>\n",
       "      <td>0.878631</td>\n",
       "      <td>-0.202694</td>\n",
       "      <td>-1.199798</td>\n",
       "      <td>-0.464115</td>\n",
       "    </tr>\n",
       "    <tr>\n",
       "      <th>4</th>\n",
       "      <td>-0.710656</td>\n",
       "      <td>1.050615</td>\n",
       "      <td>0.354602</td>\n",
       "      <td>-1.774596</td>\n",
       "      <td>-0.312230</td>\n",
       "      <td>-0.212373</td>\n",
       "      <td>0.826484</td>\n",
       "      <td>-0.621252</td>\n",
       "      <td>-1.187774</td>\n",
       "      <td>1.131129</td>\n",
       "    </tr>\n",
       "    <tr>\n",
       "      <th>...</th>\n",
       "      <td>...</td>\n",
       "      <td>...</td>\n",
       "      <td>...</td>\n",
       "      <td>...</td>\n",
       "      <td>...</td>\n",
       "      <td>...</td>\n",
       "      <td>...</td>\n",
       "      <td>...</td>\n",
       "      <td>...</td>\n",
       "      <td>...</td>\n",
       "    </tr>\n",
       "    <tr>\n",
       "      <th>195</th>\n",
       "      <td>-1.098083</td>\n",
       "      <td>-1.277636</td>\n",
       "      <td>0.419595</td>\n",
       "      <td>0.482176</td>\n",
       "      <td>-1.879287</td>\n",
       "      <td>-0.091079</td>\n",
       "      <td>-2.428480</td>\n",
       "      <td>0.032615</td>\n",
       "      <td>1.164204</td>\n",
       "      <td>0.758637</td>\n",
       "    </tr>\n",
       "    <tr>\n",
       "      <th>196</th>\n",
       "      <td>0.165211</td>\n",
       "      <td>1.937132</td>\n",
       "      <td>-1.307971</td>\n",
       "      <td>0.074876</td>\n",
       "      <td>-1.786935</td>\n",
       "      <td>1.472396</td>\n",
       "      <td>1.666002</td>\n",
       "      <td>-0.696028</td>\n",
       "      <td>-0.162525</td>\n",
       "      <td>0.976296</td>\n",
       "    </tr>\n",
       "    <tr>\n",
       "      <th>197</th>\n",
       "      <td>-0.950909</td>\n",
       "      <td>-0.218733</td>\n",
       "      <td>1.293550</td>\n",
       "      <td>0.590039</td>\n",
       "      <td>-0.679384</td>\n",
       "      <td>-0.438998</td>\n",
       "      <td>-0.188582</td>\n",
       "      <td>-0.045867</td>\n",
       "      <td>-0.972107</td>\n",
       "      <td>-0.704350</td>\n",
       "    </tr>\n",
       "    <tr>\n",
       "      <th>198</th>\n",
       "      <td>-0.446699</td>\n",
       "      <td>0.744885</td>\n",
       "      <td>-0.961264</td>\n",
       "      <td>0.494342</td>\n",
       "      <td>-1.494194</td>\n",
       "      <td>-1.458324</td>\n",
       "      <td>2.820244</td>\n",
       "      <td>0.612233</td>\n",
       "      <td>1.679779</td>\n",
       "      <td>0.204377</td>\n",
       "    </tr>\n",
       "    <tr>\n",
       "      <th>199</th>\n",
       "      <td>1.007966</td>\n",
       "      <td>1.125323</td>\n",
       "      <td>0.434998</td>\n",
       "      <td>-0.948440</td>\n",
       "      <td>-0.423478</td>\n",
       "      <td>0.910424</td>\n",
       "      <td>0.179207</td>\n",
       "      <td>0.448381</td>\n",
       "      <td>-1.759514</td>\n",
       "      <td>0.392335</td>\n",
       "    </tr>\n",
       "  </tbody>\n",
       "</table>\n",
       "<p>200 rows × 10 columns</p>\n",
       "</div>"
      ],
      "text/plain": [
       "            0         1         2         3         4         5         6  \\\n",
       "0   -1.511077  0.608749 -0.153236  0.507984 -0.324032 -2.432509  1.592056   \n",
       "1    1.445445  0.518969  0.645153  2.038777 -0.396293  1.282142 -2.170249   \n",
       "2    0.371670  0.513505 -1.398813 -0.459943  0.644354  0.081768 -1.757065   \n",
       "3    2.565453  0.145652  1.177052  1.322694  0.194175 -0.641108  0.878631   \n",
       "4   -0.710656  1.050615  0.354602 -1.774596 -0.312230 -0.212373  0.826484   \n",
       "..        ...       ...       ...       ...       ...       ...       ...   \n",
       "195 -1.098083 -1.277636  0.419595  0.482176 -1.879287 -0.091079 -2.428480   \n",
       "196  0.165211  1.937132 -1.307971  0.074876 -1.786935  1.472396  1.666002   \n",
       "197 -0.950909 -0.218733  1.293550  0.590039 -0.679384 -0.438998 -0.188582   \n",
       "198 -0.446699  0.744885 -0.961264  0.494342 -1.494194 -1.458324  2.820244   \n",
       "199  1.007966  1.125323  0.434998 -0.948440 -0.423478  0.910424  0.179207   \n",
       "\n",
       "            7         8         9  \n",
       "0   -0.864830 -0.202901 -0.871422  \n",
       "1   -1.043400  0.048547 -2.621012  \n",
       "2    0.142251 -1.132835  1.853009  \n",
       "3   -0.202694 -1.199798 -0.464115  \n",
       "4   -0.621252 -1.187774  1.131129  \n",
       "..        ...       ...       ...  \n",
       "195  0.032615  1.164204  0.758637  \n",
       "196 -0.696028 -0.162525  0.976296  \n",
       "197 -0.045867 -0.972107 -0.704350  \n",
       "198  0.612233  1.679779  0.204377  \n",
       "199  0.448381 -1.759514  0.392335  \n",
       "\n",
       "[200 rows x 10 columns]"
      ]
     },
     "execution_count": 87,
     "metadata": {},
     "output_type": "execute_result"
    }
   ],
   "source": [
    "import pandas as pd\n",
    "pd.DataFrame(x)"
   ]
  },
  {
   "cell_type": "code",
   "execution_count": 35,
   "id": "9a4eb877",
   "metadata": {},
   "outputs": [
    {
     "data": {
      "text/html": [
       "<div>\n",
       "<style scoped>\n",
       "    .dataframe tbody tr th:only-of-type {\n",
       "        vertical-align: middle;\n",
       "    }\n",
       "\n",
       "    .dataframe tbody tr th {\n",
       "        vertical-align: top;\n",
       "    }\n",
       "\n",
       "    .dataframe thead th {\n",
       "        text-align: right;\n",
       "    }\n",
       "</style>\n",
       "<table border=\"1\" class=\"dataframe\">\n",
       "  <thead>\n",
       "    <tr style=\"text-align: right;\">\n",
       "      <th></th>\n",
       "      <th>0</th>\n",
       "    </tr>\n",
       "  </thead>\n",
       "  <tbody>\n",
       "    <tr>\n",
       "      <th>0</th>\n",
       "      <td>1</td>\n",
       "    </tr>\n",
       "    <tr>\n",
       "      <th>1</th>\n",
       "      <td>0</td>\n",
       "    </tr>\n",
       "    <tr>\n",
       "      <th>2</th>\n",
       "      <td>0</td>\n",
       "    </tr>\n",
       "    <tr>\n",
       "      <th>3</th>\n",
       "      <td>1</td>\n",
       "    </tr>\n",
       "    <tr>\n",
       "      <th>4</th>\n",
       "      <td>1</td>\n",
       "    </tr>\n",
       "    <tr>\n",
       "      <th>...</th>\n",
       "      <td>...</td>\n",
       "    </tr>\n",
       "    <tr>\n",
       "      <th>195</th>\n",
       "      <td>0</td>\n",
       "    </tr>\n",
       "    <tr>\n",
       "      <th>196</th>\n",
       "      <td>1</td>\n",
       "    </tr>\n",
       "    <tr>\n",
       "      <th>197</th>\n",
       "      <td>0</td>\n",
       "    </tr>\n",
       "    <tr>\n",
       "      <th>198</th>\n",
       "      <td>1</td>\n",
       "    </tr>\n",
       "    <tr>\n",
       "      <th>199</th>\n",
       "      <td>1</td>\n",
       "    </tr>\n",
       "  </tbody>\n",
       "</table>\n",
       "<p>200 rows × 1 columns</p>\n",
       "</div>"
      ],
      "text/plain": [
       "     0\n",
       "0    1\n",
       "1    0\n",
       "2    0\n",
       "3    1\n",
       "4    1\n",
       "..  ..\n",
       "195  0\n",
       "196  1\n",
       "197  0\n",
       "198  1\n",
       "199  1\n",
       "\n",
       "[200 rows x 1 columns]"
      ]
     },
     "execution_count": 35,
     "metadata": {},
     "output_type": "execute_result"
    }
   ],
   "source": [
    "pd.DataFrame(y)"
   ]
  },
  {
   "cell_type": "markdown",
   "id": "1c1e5c23",
   "metadata": {},
   "source": [
    "<h2> 2. Data Split (80/20 ratio)</h2>"
   ]
  },
  {
   "cell_type": "code",
   "execution_count": 36,
   "id": "3647852b",
   "metadata": {},
   "outputs": [],
   "source": [
    "from sklearn.model_selection import train_test_split\n",
    "x_train, x_test, y_train, y_test = train_test_split(x,y,test_size=0.2)"
   ]
  },
  {
   "cell_type": "code",
   "execution_count": 37,
   "id": "256b19bd",
   "metadata": {},
   "outputs": [
    {
     "data": {
      "text/plain": [
       "((160, 10), (160,))"
      ]
     },
     "execution_count": 37,
     "metadata": {},
     "output_type": "execute_result"
    }
   ],
   "source": [
    "x_train.shape, y_train.shape"
   ]
  },
  {
   "cell_type": "code",
   "execution_count": 38,
   "id": "bd9c5f6c",
   "metadata": {},
   "outputs": [
    {
     "data": {
      "text/plain": [
       "((40, 10), (40,))"
      ]
     },
     "execution_count": 38,
     "metadata": {},
     "output_type": "execute_result"
    }
   ],
   "source": [
    "x_test.shape, y_test.shape"
   ]
  },
  {
   "cell_type": "markdown",
   "id": "4c3b19b1",
   "metadata": {},
   "source": [
    "<h2> 3. Building a simple ML Model using RandomForest</h2>"
   ]
  },
  {
   "cell_type": "code",
   "execution_count": 39,
   "id": "d53dfd47",
   "metadata": {},
   "outputs": [],
   "source": [
    "from sklearn.ensemble import RandomForestClassifier\n",
    "from sklearn.metrics import accuracy_score\n",
    "\n",
    "rf = RandomForestClassifier(max_features= 5, n_estimators = 100)"
   ]
  },
  {
   "cell_type": "code",
   "execution_count": 48,
   "id": "9f40f683",
   "metadata": {},
   "outputs": [
    {
     "data": {
      "text/plain": [
       "RandomForestClassifier(max_features=5)"
      ]
     },
     "execution_count": 48,
     "metadata": {},
     "output_type": "execute_result"
    }
   ],
   "source": [
    "rf.fit(x_train, y_train)"
   ]
  },
  {
   "cell_type": "code",
   "execution_count": 49,
   "id": "2b3cf5b1",
   "metadata": {},
   "outputs": [
    {
     "data": {
      "text/plain": [
       "0.85"
      ]
     },
     "execution_count": 49,
     "metadata": {},
     "output_type": "execute_result"
    }
   ],
   "source": [
    "rf.score (x_test ,y_test)"
   ]
  },
  {
   "cell_type": "code",
   "execution_count": 50,
   "id": "9807a549",
   "metadata": {},
   "outputs": [],
   "source": [
    "y_pred = rf.predict(x_test)"
   ]
  },
  {
   "cell_type": "code",
   "execution_count": 51,
   "id": "6827e0bf",
   "metadata": {},
   "outputs": [
    {
     "data": {
      "text/plain": [
       "0.85"
      ]
     },
     "execution_count": 51,
     "metadata": {},
     "output_type": "execute_result"
    }
   ],
   "source": [
    "accuracy_score(y_pred, y_test)"
   ]
  },
  {
   "cell_type": "code",
   "execution_count": 52,
   "id": "c36aa92f",
   "metadata": {},
   "outputs": [
    {
     "data": {
      "text/plain": [
       "(array([1, 0, 1, 1, 1, 0, 1, 0, 0, 1, 1, 1, 0, 0, 1, 1, 1, 1, 0, 1, 0, 1,\n",
       "        1, 0, 1, 0, 1, 0, 0, 1, 1, 0, 1, 0, 1, 1, 0, 0, 1, 1]),\n",
       " array([1, 0, 0, 1, 1, 1, 1, 0, 0, 1, 1, 1, 0, 0, 1, 1, 1, 1, 0, 1, 0, 0,\n",
       "        1, 0, 1, 1, 0, 0, 0, 1, 1, 0, 0, 0, 1, 1, 0, 0, 1, 1]))"
      ]
     },
     "execution_count": 52,
     "metadata": {},
     "output_type": "execute_result"
    }
   ],
   "source": [
    "y_pred, y_test"
   ]
  },
  {
   "cell_type": "markdown",
   "id": "9dd72f17",
   "metadata": {},
   "source": [
    "<h2> 4. Hyperparameter Tuning </h2>"
   ]
  },
  {
   "cell_type": "markdown",
   "id": "1abb903d",
   "metadata": {},
   "source": [
    "#### Two parameters are Max_features and n_estimators features. Max_features represents the number of features used to construct a prediction model. n_estimators is the number of trees used to construct a prediction model."
   ]
  },
  {
   "cell_type": "code",
   "execution_count": 71,
   "id": "803ac9f7",
   "metadata": {},
   "outputs": [],
   "source": [
    "from sklearn.model_selection import GridSearchCV\n",
    "import numpy as np\n",
    "\n",
    "max_features_range = np.arange(1,6,1)\n",
    "n_estimators_range = np.arange(10,210,10)\n",
    "param_grid = dict(max_features = max_features_range, n_estimators = n_estimators_range)\n",
    "\n",
    "rf = RandomForestClassifier()\n",
    "\n",
    "grid = GridSearchCV(estimator=rf,param_grid=param_grid, cv=5 )"
   ]
  },
  {
   "cell_type": "code",
   "execution_count": 72,
   "id": "087463a6",
   "metadata": {},
   "outputs": [
    {
     "data": {
      "text/plain": [
       "GridSearchCV(cv=5, estimator=RandomForestClassifier(),\n",
       "             param_grid={'max_features': array([1, 2, 3, 4, 5]),\n",
       "                         'n_estimators': array([ 10,  20,  30,  40,  50,  60,  70,  80,  90, 100, 110, 120, 130,\n",
       "       140, 150, 160, 170, 180, 190, 200])})"
      ]
     },
     "execution_count": 72,
     "metadata": {},
     "output_type": "execute_result"
    }
   ],
   "source": [
    "grid.fit (x_train, y_train)"
   ]
  },
  {
   "cell_type": "code",
   "execution_count": 78,
   "id": "4e58a827",
   "metadata": {},
   "outputs": [
    {
     "name": "stdout",
     "output_type": "stream",
     "text": [
      "The best parameters are {'max_features': 3, 'n_estimators': 170} with a score of 0.91\n"
     ]
    }
   ],
   "source": [
    "print (\"The best parameters are %s with a score of %0.2f\" \n",
    "       % (grid.best_params_, grid.best_score_)\n",
    "      )"
   ]
  },
  {
   "cell_type": "markdown",
   "id": "a239e605",
   "metadata": {},
   "source": [
    "<h2> 5.Dataframe of grid search parameters and their accuracy scores </h2>"
   ]
  },
  {
   "cell_type": "code",
   "execution_count": 88,
   "id": "2dedc0f7",
   "metadata": {},
   "outputs": [
    {
     "data": {
      "text/html": [
       "<div>\n",
       "<style scoped>\n",
       "    .dataframe tbody tr th:only-of-type {\n",
       "        vertical-align: middle;\n",
       "    }\n",
       "\n",
       "    .dataframe tbody tr th {\n",
       "        vertical-align: top;\n",
       "    }\n",
       "\n",
       "    .dataframe thead th {\n",
       "        text-align: right;\n",
       "    }\n",
       "</style>\n",
       "<table border=\"1\" class=\"dataframe\">\n",
       "  <thead>\n",
       "    <tr style=\"text-align: right;\">\n",
       "      <th></th>\n",
       "      <th>max_features</th>\n",
       "      <th>n_estimators</th>\n",
       "      <th>Accuracy</th>\n",
       "    </tr>\n",
       "  </thead>\n",
       "  <tbody>\n",
       "    <tr>\n",
       "      <th>0</th>\n",
       "      <td>1</td>\n",
       "      <td>10</td>\n",
       "      <td>0.73750</td>\n",
       "    </tr>\n",
       "    <tr>\n",
       "      <th>1</th>\n",
       "      <td>1</td>\n",
       "      <td>20</td>\n",
       "      <td>0.80000</td>\n",
       "    </tr>\n",
       "    <tr>\n",
       "      <th>2</th>\n",
       "      <td>1</td>\n",
       "      <td>30</td>\n",
       "      <td>0.81250</td>\n",
       "    </tr>\n",
       "    <tr>\n",
       "      <th>3</th>\n",
       "      <td>1</td>\n",
       "      <td>40</td>\n",
       "      <td>0.86875</td>\n",
       "    </tr>\n",
       "    <tr>\n",
       "      <th>4</th>\n",
       "      <td>1</td>\n",
       "      <td>50</td>\n",
       "      <td>0.87500</td>\n",
       "    </tr>\n",
       "  </tbody>\n",
       "</table>\n",
       "</div>"
      ],
      "text/plain": [
       "   max_features  n_estimators  Accuracy\n",
       "0             1            10   0.73750\n",
       "1             1            20   0.80000\n",
       "2             1            30   0.81250\n",
       "3             1            40   0.86875\n",
       "4             1            50   0.87500"
      ]
     },
     "execution_count": 88,
     "metadata": {},
     "output_type": "execute_result"
    }
   ],
   "source": [
    "import pandas as pd\n",
    "grid_results = pd.concat([pd.DataFrame(grid.cv_results_[\"params\"]), pd.DataFrame(grid.cv_results_[\"mean_test_score\"], columns = [\"Accuracy\"])], axis=1)\n",
    "grid_results.head()"
   ]
  },
  {
   "cell_type": "markdown",
   "id": "45879e74",
   "metadata": {},
   "source": [
    "<h2>6. Preparing data for making contour plots <h2>"
   ]
  },
  {
   "cell_type": "code",
   "execution_count": 91,
   "id": "e7f161d2",
   "metadata": {},
   "outputs": [
    {
     "data": {
      "text/html": [
       "<div>\n",
       "<style scoped>\n",
       "    .dataframe tbody tr th:only-of-type {\n",
       "        vertical-align: middle;\n",
       "    }\n",
       "\n",
       "    .dataframe tbody tr th {\n",
       "        vertical-align: top;\n",
       "    }\n",
       "\n",
       "    .dataframe thead th {\n",
       "        text-align: right;\n",
       "    }\n",
       "</style>\n",
       "<table border=\"1\" class=\"dataframe\">\n",
       "  <thead>\n",
       "    <tr style=\"text-align: right;\">\n",
       "      <th></th>\n",
       "      <th></th>\n",
       "      <th>Accuracy</th>\n",
       "    </tr>\n",
       "    <tr>\n",
       "      <th>max_features</th>\n",
       "      <th>n_estimators</th>\n",
       "      <th></th>\n",
       "    </tr>\n",
       "  </thead>\n",
       "  <tbody>\n",
       "    <tr>\n",
       "      <th rowspan=\"5\" valign=\"top\">1</th>\n",
       "      <th>10</th>\n",
       "      <td>0.73750</td>\n",
       "    </tr>\n",
       "    <tr>\n",
       "      <th>20</th>\n",
       "      <td>0.80000</td>\n",
       "    </tr>\n",
       "    <tr>\n",
       "      <th>30</th>\n",
       "      <td>0.81250</td>\n",
       "    </tr>\n",
       "    <tr>\n",
       "      <th>40</th>\n",
       "      <td>0.86875</td>\n",
       "    </tr>\n",
       "    <tr>\n",
       "      <th>50</th>\n",
       "      <td>0.87500</td>\n",
       "    </tr>\n",
       "    <tr>\n",
       "      <th>...</th>\n",
       "      <th>...</th>\n",
       "      <td>...</td>\n",
       "    </tr>\n",
       "    <tr>\n",
       "      <th rowspan=\"5\" valign=\"top\">5</th>\n",
       "      <th>160</th>\n",
       "      <td>0.88125</td>\n",
       "    </tr>\n",
       "    <tr>\n",
       "      <th>170</th>\n",
       "      <td>0.89375</td>\n",
       "    </tr>\n",
       "    <tr>\n",
       "      <th>180</th>\n",
       "      <td>0.89375</td>\n",
       "    </tr>\n",
       "    <tr>\n",
       "      <th>190</th>\n",
       "      <td>0.89375</td>\n",
       "    </tr>\n",
       "    <tr>\n",
       "      <th>200</th>\n",
       "      <td>0.89375</td>\n",
       "    </tr>\n",
       "  </tbody>\n",
       "</table>\n",
       "<p>100 rows × 1 columns</p>\n",
       "</div>"
      ],
      "text/plain": [
       "                           Accuracy\n",
       "max_features n_estimators          \n",
       "1            10             0.73750\n",
       "             20             0.80000\n",
       "             30             0.81250\n",
       "             40             0.86875\n",
       "             50             0.87500\n",
       "...                             ...\n",
       "5            160            0.88125\n",
       "             170            0.89375\n",
       "             180            0.89375\n",
       "             190            0.89375\n",
       "             200            0.89375\n",
       "\n",
       "[100 rows x 1 columns]"
      ]
     },
     "execution_count": 91,
     "metadata": {},
     "output_type": "execute_result"
    }
   ],
   "source": [
    "grid_contour = grid_results.groupby(['max_features', 'n_estimators']).mean()\n",
    "grid_contour"
   ]
  },
  {
   "cell_type": "code",
   "execution_count": null,
   "id": "448908f8",
   "metadata": {},
   "outputs": [],
   "source": []
  }
 ],
 "metadata": {
  "kernelspec": {
   "display_name": "Python 3 (ipykernel)",
   "language": "python",
   "name": "python3"
  },
  "language_info": {
   "codemirror_mode": {
    "name": "ipython",
    "version": 3
   },
   "file_extension": ".py",
   "mimetype": "text/x-python",
   "name": "python",
   "nbconvert_exporter": "python",
   "pygments_lexer": "ipython3",
   "version": "3.7.4"
  }
 },
 "nbformat": 4,
 "nbformat_minor": 5
}
